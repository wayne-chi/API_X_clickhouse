{
 "cells": [
  {
   "cell_type": "code",
   "execution_count": 26,
   "metadata": {},
   "outputs": [
    {
     "data": {
      "text/plain": [
       "True"
      ]
     },
     "execution_count": 26,
     "metadata": {},
     "output_type": "execute_result"
    }
   ],
   "source": [
    "import pandas as pd\n",
    "import psycopg2\n",
    "import sqlalchemy\n",
    "from psycopg2 import Error\n",
    "from sqlalchemy import create_engine\n",
    "from dotenv import load_dotenv, dotenv_values\n",
    "from fastapi import Depends, HTTPException\n",
    "from sqlalchemy import create_engine, text\n",
    "from sqlalchemy.orm import Session\n",
    "import hashlib\n",
    "import os\n",
    "from decimal import Decimal\n",
    "load_dotenv()"
   ]
  },
  {
   "cell_type": "code",
   "execution_count": 2,
   "metadata": {},
   "outputs": [],
   "source": [
    "# PostgreSQL connection details\n",
    "username = os.getenv('DB_USERNAME')\n",
    "password = os.getenv('DB_PASSWORD')\n",
    "host = os.getenv('DB_HOST')\n",
    "port = os.getenv('DB_PORT')\n",
    "database = os.getenv('DB_DATABASE')"
   ]
  },
  {
   "cell_type": "code",
   "execution_count": 3,
   "metadata": {},
   "outputs": [],
   "source": [
    "connection = psycopg2.connect(\n",
    "    user=username,\n",
    "    password=password,\n",
    "    host=host,\n",
    "    port=port,\n",
    "    database=database,\n",
    "sslmode = 'require'\n",
    ")"
   ]
  },
  {
   "cell_type": "code",
   "execution_count": 4,
   "metadata": {},
   "outputs": [],
   "source": [
    "# cursor = connection.cursor()\n",
    "# table_query = \"\"\"\n",
    "# CREATE TABLE users (\n",
    "#     id Serial PRIMARY KEY ,\n",
    "#     username TEXT NOT NULL UNIQUE,\n",
    "#     apikey TEXT NOT NULL,\n",
    "#     credit_points INTEGER DEFAULT 500  \n",
    "# );\n",
    "# \"\"\"\n",
    "\n",
    "# cursor.execute(table_query)"
   ]
  },
  {
   "cell_type": "code",
   "execution_count": 14,
   "metadata": {},
   "outputs": [],
   "source": [
    "# Modify the data type of credit_points to NUMERIC(10, 7) in PostgreSQL\n",
    "with Session(engine) as session:\n",
    "    session.execute(text(\"ALTER TABLE users ALTER COLUMN credit_points TYPE NUMERIC(15, 7)\"))\n",
    "    session.commit()"
   ]
  },
  {
   "cell_type": "code",
   "execution_count": 10,
   "metadata": {},
   "outputs": [],
   "source": [
    "engine.connect().commit()"
   ]
  },
  {
   "cell_type": "code",
   "execution_count": 15,
   "metadata": {},
   "outputs": [
    {
     "name": "stdout",
     "output_type": "stream",
     "text": [
      "('credit_points', 'numeric', 15, 7)\n"
     ]
    }
   ],
   "source": [
    "with engine.connect() as conn:\n",
    "    result = conn.execute(text(\"SELECT column_name, data_type, numeric_precision, numeric_scale \"\n",
    "                               \"FROM information_schema.columns \"\n",
    "                               \"WHERE table_name = 'users' AND column_name = 'credit_points'\")).fetchall()\n",
    "\n",
    "    for row in result:\n",
    "        print(row)\n"
   ]
  },
  {
   "cell_type": "code",
   "execution_count": 6,
   "metadata": {},
   "outputs": [],
   "source": [
    "# connection.rollback()"
   ]
  },
  {
   "cell_type": "code",
   "execution_count": 8,
   "metadata": {},
   "outputs": [],
   "source": [
    "# connection.commit()"
   ]
  },
  {
   "cell_type": "code",
   "execution_count": 5,
   "metadata": {},
   "outputs": [],
   "source": []
  },
  {
   "cell_type": "code",
   "execution_count": 4,
   "metadata": {},
   "outputs": [],
   "source": [
    "def hash_api_key(api_key : str):\n",
    "    return hashlib.sha256(api_key.encode()).hexdigest()"
   ]
  },
  {
   "cell_type": "code",
   "execution_count": null,
   "metadata": {},
   "outputs": [],
   "source": []
  },
  {
   "cell_type": "code",
   "execution_count": 8,
   "metadata": {},
   "outputs": [],
   "source": [
    "def insert_data(cursor, username: str, api_key: str, credit: int = 5000):\n",
    "    # Assuming hash_api_key is a function that hashes the API key\n",
    "    hashed_api_key = hash_api_key(api_key)\n",
    "    \n",
    "    q = \"\"\"\n",
    "    INSERT INTO users (username, apikey, credit_points) \n",
    "    VALUES (%s, %s, %s)\n",
    "    \"\"\"\n",
    "    try:\n",
    "        # Execute the query\n",
    "        cursor.execute(q, (username, hashed_api_key, credit))\n",
    "        \n",
    "        # Optionally, commit the transaction if needed\n",
    "        cursor.connection.commit()\n",
    "    except:\n",
    "        cursor.connection.rollback()\n",
    "        return f\"user {username} failed to insert\"\n",
    "\n",
    "    return f\"User {username} inserted successfully with {credit} credits.\"\n"
   ]
  },
  {
   "cell_type": "code",
   "execution_count": 19,
   "metadata": {},
   "outputs": [
    {
     "data": {
      "text/plain": [
       "''"
      ]
     },
     "execution_count": 19,
     "metadata": {},
     "output_type": "execute_result"
    }
   ],
   "source": [
    "users =[\n",
    "    ('otto', '45a7f6c8d9012e3f4b5a6c7d8e9f1a2b'),\n",
    "    ('user1', '1a2b3c4d5e6f7g8h9i0j1k2m3n4o5p'),\n",
    "    ('io','7c6a5e4d3b2a1f9e8d7c6r5t4y3u2i'),\n",
    "    ('user3','9f8e7d6c5b4a3g2h1i0j9k8l7m6n5o')\n",
    "]\n",
    "\n",
    "\n",
    "\"\"\"\n",
    "45a7f6c8d9012e3f4b5a6c7d8e9f1a2b\n",
    "1a2b3c4d5e6f7g8h9i0j1k2m3n4o5p\n",
    "7c6a5e4d3b2a1f9e8d7c6r5t4y3u2i\n",
    "9f8e7d6c5b4a3g2h1i0j9k8l7m6n5o\n",
    "\n",
    "\"\"\" \n",
    "''"
   ]
  },
  {
   "cell_type": "code",
   "execution_count": 24,
   "metadata": {},
   "outputs": [],
   "source": [
    "# for user in users[1:]:\n",
    "#     insert_data(cursor, user[0], user[1])"
   ]
  },
  {
   "cell_type": "code",
   "execution_count": 12,
   "metadata": {},
   "outputs": [],
   "source": [
    "connection.rollback()"
   ]
  },
  {
   "cell_type": "code",
   "execution_count": 10,
   "metadata": {},
   "outputs": [],
   "source": [
    "cursor = connection.cursor()"
   ]
  },
  {
   "cell_type": "code",
   "execution_count": 11,
   "metadata": {},
   "outputs": [],
   "source": [
    "q2 = 'SELECT * From users'\n",
    "cursor.execute(q2)\n",
    "connection.commit()\n"
   ]
  },
  {
   "cell_type": "code",
   "execution_count": 12,
   "metadata": {},
   "outputs": [
    {
     "data": {
      "text/plain": [
       "[(1,\n",
       "  'otto',\n",
       "  '3634c59eb22d2003a453ad644a694052b8eab9f351bd1ad994aeb56e5e937f9a',\n",
       "  5000),\n",
       " (2,\n",
       "  'user1',\n",
       "  'ac26e678c1d1ccc291bbffded36b70aa9927826ec4265bf4e5a7655913b9ada6',\n",
       "  5000),\n",
       " (3,\n",
       "  'io',\n",
       "  'ed3e808c45aa85a5f036518442ea1876302402f8b69935c2e59f90c280d716b4',\n",
       "  5000),\n",
       " (4,\n",
       "  'user3',\n",
       "  'fdba662617e2d6846a2796847fe8094f656fa78f45ba194af0203bc8c9138fc7',\n",
       "  5000)]"
      ]
     },
     "execution_count": 12,
     "metadata": {},
     "output_type": "execute_result"
    }
   ],
   "source": [
    "row = cursor.fetchall()\n",
    "row"
   ]
  },
  {
   "cell_type": "code",
   "execution_count": 5,
   "metadata": {},
   "outputs": [],
   "source": [
    "# Setup database engine (SQLite example)\n",
    "engine = create_engine(f'postgresql://{username}:{password}@{host}:{port}/{database}')"
   ]
  },
  {
   "cell_type": "code",
   "execution_count": 20,
   "metadata": {},
   "outputs": [],
   "source": [
    "\n",
    "\n",
    "# Setup database engine (SQLite example)\n",
    "engine = create_engine(f'postgresql://{username}:{password}@{host}:{port}/{database}')\n",
    "\n",
    "# User authentication function\n",
    "def authenticate_user(api_key: str):\n",
    "    hashed_key = hash_api_key(api_key)\n",
    "    query = \"SELECT * FROM users WHERE apikey = :apikey\"\n",
    "    # if username:\n",
    "    #     query += \" AND username = :username\"\n",
    "\n",
    "    with engine.connect() as conn:\n",
    "        user = conn.execute(text(query), {\"apikey\": hashed_key}).fetchone()\n",
    "\n",
    "    if not user:\n",
    "        return False\n",
    "        raise HTTPException(status_code=401, detail=\"Invalid API key or user\")\n",
    "    \n",
    "    return user[0], user[1], user[3]  # Returns user row\n"
   ]
  },
  {
   "cell_type": "code",
   "execution_count": 22,
   "metadata": {},
   "outputs": [
    {
     "data": {
      "text/plain": [
       "(1, 'otto', Decimal('5000.0000000'))"
      ]
     },
     "execution_count": 22,
     "metadata": {},
     "output_type": "execute_result"
    }
   ],
   "source": [
    "authenticate_user(users[0][1])"
   ]
  },
  {
   "cell_type": "code",
   "execution_count": null,
   "metadata": {},
   "outputs": [],
   "source": [
    "from sqlalchemy.orm import Session\n",
    "\n",
    "def update_user_credits_orm(engine, user_id: int, new_credits: int):\n",
    "    with Session(engine) as session:\n",
    "        # Fetch the user record\n",
    "        user = session.execute(\n",
    "            text(\"SELECT * FROM users WHERE id = :id\"), {\"id\": user_id}\n",
    "        ).fetchone()\n",
    "\n",
    "        # Check if the user exists, then update\n",
    "        if user:\n",
    "            session.execute(\n",
    "                text(\"UPDATE users SET credit_points = :new_credits WHERE id = :user_id\"),\n",
    "                {\"new_credits\": new_credits, \"user_id\": user_id}\n",
    "            )\n",
    "            session.commit()  # Commit to save the changes\n",
    "\n",
    "# Call the function\n",
    "update_user_credits_orm(engine, user_id=2, new_credits=4000)\n"
   ]
  },
  {
   "cell_type": "code",
   "execution_count": 25,
   "metadata": {},
   "outputs": [],
   "source": [
    "# def deduct_credits(engine, user_id: int, row_count: int):\n",
    "#     points_to_deduct = row_count  # For example, 1 credit point per row returned\n",
    "    \n",
    "#     with engine.connect() as conn:\n",
    "#         user = conn.execute(text(\"SELECT credit_points FROM users WHERE id = :id\"), {\"id\": user_id}).fetchone()\n",
    "\n",
    "#         if user and user[0] >= points_to_deduct:\n",
    "#             new_credits = user[0] - points_to_deduct\n",
    "#             print(new_credits)\n",
    "#             conn.execute(text(\"UPDATE users SET credit_points = :new_credits WHERE id = :id\"),\n",
    "#                          {\"new_credits\": new_credits, \"id\": user_id})\n",
    "#             print ('deducted')\n",
    "#         else:\n",
    "#             raise HTTPException(status_code=402, detail=\"Insufficient credit points\")\n"
   ]
  },
  {
   "cell_type": "code",
   "execution_count": 27,
   "metadata": {},
   "outputs": [],
   "source": [
    "\n",
    "\n",
    "def deduct_credits(engine, user_id: int, row_count: int):\n",
    "    points_to_deduct = Decimal(row_count /10000) # For example, 1 credit point per row returned\n",
    "    with Session(engine) as session:\n",
    "        # Fetch the user record and their current credit points\n",
    "        user = session.execute(\n",
    "            text(\"SELECT credit_points FROM users WHERE id = :id\"), {\"id\": user_id}\n",
    "        ).fetchone()\n",
    "\n",
    "        # Check if the user exists and has enough credit points\n",
    "        if user and user[0] >= points_to_deduct:\n",
    "            new_credits = user[0] - points_to_deduct\n",
    "            print(f\"New Credits after deduction: {new_credits}\")\n",
    "            \n",
    "            # Update user's credit points\n",
    "            session.execute(\n",
    "                text(\"UPDATE users SET credit_points = :new_credits WHERE id = :user_id\"),\n",
    "                {\"new_credits\": new_credits, \"user_id\": user_id}\n",
    "            )\n",
    "            \n",
    "            # Commit the transaction to save the changes\n",
    "            session.commit()\n",
    "            print('Credits deducted successfully.')\n",
    "        else:\n",
    "            # If the user does not exist or has insufficient credits\n",
    "            raise HTTPException(status_code=402, detail=\"Insufficient credit points\")\n",
    "\n"
   ]
  },
  {
   "cell_type": "code",
   "execution_count": 24,
   "metadata": {},
   "outputs": [
    {
     "name": "stdout",
     "output_type": "stream",
     "text": [
      "User ID 2 has 3995.0000000 credit points.\n"
     ]
    }
   ],
   "source": [
    "def check_user_credits(engine, user_id: int):\n",
    "    with engine.connect() as conn:\n",
    "        result = conn.execute(text(\"SELECT credit_points FROM users WHERE id = :user_id\"), {\"user_id\": user_id}).fetchone()\n",
    "        if result:\n",
    "            print(f\"User ID {user_id} has {result[0]} credit points.\")\n",
    "        else:\n",
    "            print(f\"User ID {user_id} not found.\")\n",
    "\n",
    "# Call the function to verify the update\n",
    "check_user_credits(engine, user_id=2)"
   ]
  },
  {
   "cell_type": "code",
   "execution_count": 28,
   "metadata": {},
   "outputs": [
    {
     "name": "stdout",
     "output_type": "stream",
     "text": [
      "New Credits after deduction: 3994.999499999999999999989592\n",
      "Credits deducted successfully.\n"
     ]
    }
   ],
   "source": [
    "\n",
    "# Example usage:\n",
    "deduct_credits(engine, user_id=2, row_count=5)"
   ]
  },
  {
   "cell_type": "code",
   "execution_count": 18,
   "metadata": {},
   "outputs": [
    {
     "data": {
      "text/plain": [
       "(5000, 'user1')"
      ]
     },
     "execution_count": 18,
     "metadata": {},
     "output_type": "execute_result"
    }
   ],
   "source": [
    " user = engine.connect().execute(text(\"SELECT credit_points, username FROM users WHERE id = :id\"), {\"id\": 2}).fetchone()\n",
    "user"
   ]
  },
  {
   "cell_type": "code",
   "execution_count": 29,
   "metadata": {},
   "outputs": [
    {
     "data": {
      "text/plain": [
       "[(1, 'otto', '3634c59eb22d2003a453ad644a694052b8eab9f351bd1ad994aeb56e5e937f9a', Decimal('5000.0000000')),\n",
       " (3, 'io', 'ed3e808c45aa85a5f036518442ea1876302402f8b69935c2e59f90c280d716b4', Decimal('5000.0000000')),\n",
       " (4, 'user3', 'fdba662617e2d6846a2796847fe8094f656fa78f45ba194af0203bc8c9138fc7', Decimal('5000.0000000')),\n",
       " (2, 'user1', 'ac26e678c1d1ccc291bbffded36b70aa9927826ec4265bf4e5a7655913b9ada6', Decimal('3994.9995000'))]"
      ]
     },
     "execution_count": 29,
     "metadata": {},
     "output_type": "execute_result"
    }
   ],
   "source": [
    "res = engine.connect().execute(text(\"select * from users\")).fetchall()\n",
    "res"
   ]
  },
  {
   "cell_type": "code",
   "execution_count": null,
   "metadata": {},
   "outputs": [],
   "source": [
    "res.fetchall()"
   ]
  },
  {
   "cell_type": "code",
   "execution_count": 21,
   "metadata": {},
   "outputs": [],
   "source": []
  },
  {
   "cell_type": "code",
   "execution_count": 22,
   "metadata": {},
   "outputs": [
    {
     "name": "stdout",
     "output_type": "stream",
     "text": [
      "User ID 2 has 4000 credit points.\n"
     ]
    }
   ],
   "source": [
    "\n"
   ]
  },
  {
   "cell_type": "code",
   "execution_count": null,
   "metadata": {},
   "outputs": [],
   "source": []
  }
 ],
 "metadata": {
  "kernelspec": {
   "display_name": "api_clickhouse",
   "language": "python",
   "name": "python3"
  },
  "language_info": {
   "codemirror_mode": {
    "name": "ipython",
    "version": 3
   },
   "file_extension": ".py",
   "mimetype": "text/x-python",
   "name": "python",
   "nbconvert_exporter": "python",
   "pygments_lexer": "ipython3",
   "version": "3.10.4"
  }
 },
 "nbformat": 4,
 "nbformat_minor": 2
}
